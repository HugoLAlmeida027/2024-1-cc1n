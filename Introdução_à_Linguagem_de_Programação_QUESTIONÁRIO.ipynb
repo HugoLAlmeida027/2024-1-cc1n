{
  "nbformat": 4,
  "nbformat_minor": 0,
  "metadata": {
    "colab": {
      "provenance": [],
      "include_colab_link": true
    },
    "kernelspec": {
      "name": "python3",
      "display_name": "Python 3"
    }
  },
  "cells": [
    {
      "cell_type": "markdown",
      "metadata": {
        "id": "view-in-github",
        "colab_type": "text"
      },
      "source": [
        "<a href=\"https://colab.research.google.com/github/HugoLAlmeida027/2024-1-cc1n/blob/main/Introdu%C3%A7%C3%A3o_%C3%A0_Linguagem_de_Programa%C3%A7%C3%A3o_QUESTION%C3%81RIO.ipynb\" target=\"_parent\"><img src=\"https://colab.research.google.com/assets/colab-badge.svg\" alt=\"Open In Colab\"/></a>"
      ]
    },
    {
      "cell_type": "markdown",
      "metadata": {
        "id": "G90zxY79qIXe"
      },
      "source": [
        "<html>\n",
        "  <body>\n",
        "    <header></header>\n",
        "        <CENTER>\n",
        "          <img src=\"https://uvv.br/wp-content/themes/uvvBr/templates/assets//img/logouvv.svg\" alt=\"UVV-LOGO\" style = width=\"100px\"; height=\"100px\">\n",
        "        </CENTER>\n",
        "        <CENTER>\n",
        "          </CENTER>\n",
        "        <CENTER><b>Introdução à Linguagem de Programação</b></CENTER><br/>\n",
        "        <CENTER><b>Questionário</b></CENTER><br/>\n",
        "        </font>"
      ]
    },
    {
      "cell_type": "markdown",
      "source": [
        "NOME: ???"
      ],
      "metadata": {
        "id": "VcflTI9t2r8R"
      }
    },
    {
      "cell_type": "markdown",
      "source": [
        "Link para este COLAB: [Aqui!]()"
      ],
      "metadata": {
        "id": "dE6XUUtH2eU-"
      }
    },
    {
      "cell_type": "markdown",
      "source": [
        "#EXERCÍCIO DE FIXAÇÃO:"
      ],
      "metadata": {
        "id": "8iZ0JyHqC9QI"
      }
    },
    {
      "cell_type": "markdown",
      "source": [
        "#Exercício 1:"
      ],
      "metadata": {
        "id": "C_vq0oekySYP"
      }
    },
    {
      "cell_type": "markdown",
      "source": [
        "Faça um mapa conceitual ([MIRO](https://miro.com/pt/mapa-conceitual/): online) que contenha a definição dos conceitos a seguir:"
      ],
      "metadata": {
        "id": "O9JAY8jHkWGL"
      }
    },
    {
      "cell_type": "markdown",
      "source": [
        "A partir do CONCEITO: Linguagem de programação, faça um Mapa Conceitual que deve interligar os conceitos de:\n",
        "\n",
        "*   Linguagem de Máquina\n",
        "*   Tradutor\n",
        "*   Compilador\n",
        "*   Interpretador\n",
        "*   Linguagem de Baixo Nível\n",
        "*   Linguagem de Alto Nível\n",
        "*   IDE\n",
        "*   Analisador Léxico\n",
        "*   Tokens\n",
        "*   KeyWords (palavras chaves)\n",
        "*   Analisador de Sintaxe\n",
        "*   Analisador Semântico\n",
        "*   Pensamento Computacional\n",
        "*   Paradigma\n",
        "*   Paradigma Imperativo\n",
        "*   Paradigma Declarativo\n",
        "*   Paradigma Procedural\n",
        "*   Paradigma Estrutural\n",
        "*   Paradigma Orientado a objeto\n",
        "*   Paradigma Funcional\n",
        "*   Paradigma Lógico\n",
        "*   Modularização\n",
        "*   Encapsulamento\n",
        "*   Reutilização de código"
      ],
      "metadata": {
        "id": "Y1c_hngHk1-i"
      }
    },
    {
      "cell_type": "markdown",
      "source": [
        "Exemplo: [Aqui!](https://miro.com/welcomeonboard/RVFyVXpaRTNyZGpJOWFNVTZDNVloTWFGT21neG0wNEp5NUJwRGxuVGNncXhxWHpIRTB5TXpwd1pZVHpkVjUyZ3wzNDU4NzY0NTg4MTE4MDk4Nzg2fDI=?share_link_id=126078695246)"
      ],
      "metadata": {
        "id": "qtPB3edQypv2"
      }
    },
    {
      "cell_type": "markdown",
      "source": [
        "#Exercício 2:"
      ],
      "metadata": {
        "id": "E6r0FYbjyw0G"
      }
    },
    {
      "cell_type": "markdown",
      "source": [
        "Pesquisar e classificar as 10 primeiras Linguagens de Programação no TOP TEN do\n",
        "\n",
        "stack overflow survey 2023: [Link!](https://survey.stackoverflow.co/2023/#technology-most-popular-technologies)"
      ],
      "metadata": {
        "id": "4ueZqWtaC8ZA"
      }
    },
    {
      "cell_type": "markdown",
      "source": [
        "1.   JavaScript 63.61%\n",
        "1.   Python 49.28%\n",
        "2.   SQL 48.66%\n",
        "1.   TypeScript 38.87%\n",
        "2.   Bash/Shell (all shells) 32.37%\n",
        "1.   Java 30.55%\n",
        "2.   C 19.34% / C# / C++ 22.42% 27.62%\n",
        "2.  PHP 18.58%\n",
        "2. PowerShell 13.59%\n",
        "2. Go 13.24%"
      ],
      "metadata": {
        "id": "qALBG60tzehl"
      }
    },
    {
      "cell_type": "markdown",
      "source": [
        "Para cada uma das linguagens, responda:\n",
        "1.   PARADIGMA\n",
        "2.   ARQUITETURA\n",
        "3. ANALISADOR LÉXICO"
      ],
      "metadata": {
        "id": "_sYTUch3MufK"
      }
    },
    {
      "cell_type": "markdown",
      "source": [
        "#Exercício 3:"
      ],
      "metadata": {
        "id": "DD5RsUwW018G"
      }
    },
    {
      "cell_type": "markdown",
      "source": [
        "A partir do código a seguir, cometa:\n",
        "*   Três (3) erros léxicos\n",
        "*   Três (3) erros de sintaxe\n",
        "*   Três (3) erros de semântica"
      ],
      "metadata": {
        "id": "O7xB6Mf203ci"
      }
    },
    {
      "cell_type": "code",
      "source": [
        "# ALGORITMO: ENTRADA + PROCESSAMENTO + SAÍDA\n",
        "import math\n",
        "# ENTRADA\n",
        "tamanho = int(input('TAMANHO DO ARQUIVO (Megabytes): '))\n",
        "velocidade = int(input('TAMANHO DO ARQUIVO (Megabytes / segundos): '))\n",
        "# PROCESSAMENTO\n",
        "tempo = tamanho / velocidade\n",
        "minutos = tempo / 60\n",
        "segundos = minutos - math.floor(minutos)\n",
        "segundos = 60 * segundos\n",
        "# SAÍDA\n",
        "print(f'TEMPO DE DOWNLOAD: {math.floor(minutos): .0f} MINUTOS E {segundos: .0f} SEGUNDOS')"
      ],
      "metadata": {
        "colab": {
          "base_uri": "https://localhost:8080/"
        },
        "id": "rwWbvEsL1LWV",
        "outputId": "ae3e46d3-3311-4caa-a949-25fbaae7c9b4"
      },
      "execution_count": null,
      "outputs": [
        {
          "output_type": "stream",
          "name": "stdout",
          "text": [
            "TAMANHO DO ARQUIVO (Megabytes): 66000\n",
            "TAMANHO DO ARQUIVO (Megabytes / segundos): 600\n",
            "TEMPO DE DOWNLOAD:  1 MINUTOS E  50 SEGUNDOS\n"
          ]
        }
      ]
    }
  ]
}